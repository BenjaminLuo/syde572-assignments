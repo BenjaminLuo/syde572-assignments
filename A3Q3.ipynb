{
 "cells": [
  {
   "cell_type": "markdown",
   "metadata": {},
   "source": [
    "#### Exercise 3: Gaussian Mixture Model (GMM)"
   ]
  },
  {
   "cell_type": "code",
   "execution_count": 2,
   "metadata": {},
   "outputs": [],
   "source": [
    "import numpy as np\n",
    "import matplotlib.pyplot as plt\n",
    "from matplotlib import cm\n",
    "from sklearn.cluster import KMeans\n",
    "\n",
    "from keras.datasets import mnist"
   ]
  },
  {
   "cell_type": "code",
   "execution_count": 3,
   "metadata": {},
   "outputs": [
    {
     "data": {
      "text/plain": [
       "(100, 784)"
      ]
     },
     "execution_count": 3,
     "metadata": {},
     "output_type": "execute_result"
    }
   ],
   "source": [
    "# Load the dataset and process the data\n",
    "(train_X, train_y), (test_X, test_y) = mnist.load_data()\n",
    "\n",
    "# Combining dataset with labels\n",
    "train = np.column_stack((train_X.reshape(-1, 28*28), train_y))\n",
    "test = np.column_stack((test_X.reshape(-1, 28*28), test_y))\n",
    "\n",
    "# Randomly trimming dataset for better performance\n",
    "np.random.shuffle(train)\n",
    "train_y = np.array(train[:100][:, -1])\n",
    "train = np.array(train[:100][:, :-1].tolist())\n",
    "\n",
    "train.shape"
   ]
  },
  {
   "cell_type": "markdown",
   "metadata": {},
   "source": [
    "#### Part 1: Training the Gaussian Mixture Model (GMM)"
   ]
  },
  {
   "cell_type": "code",
   "execution_count": 4,
   "metadata": {},
   "outputs": [
    {
     "data": {
      "text/plain": [
       "((10, 784), (100,))"
      ]
     },
     "execution_count": 4,
     "metadata": {},
     "output_type": "execute_result"
    }
   ],
   "source": [
    "# Using Sci-Kit Learn implementation as a design reference\n",
    "from sklearn.mixture import GaussianMixture\n",
    "\n",
    "n_clusters = 10\n",
    "gmm = GaussianMixture(n_clusters, covariance_type='full', random_state=0).fit(train)\n",
    "labels = gmm.predict(train)\n",
    "gmm.means_.shape, labels.shape"
   ]
  },
  {
   "cell_type": "code",
   "execution_count": 191,
   "metadata": {},
   "outputs": [
    {
     "name": "stdout",
     "output_type": "stream",
     "text": [
      "Loss at iteration  0  is  3602.2376162631545\n"
     ]
    },
    {
     "name": "stderr",
     "output_type": "stream",
     "text": [
      "C:\\Users\\ephei\\AppData\\Local\\Temp\\ipykernel_7212\\1053298515.py:22: RuntimeWarning: divide by zero encountered in scalar power\n",
      "  r[k] = [(pi[k] * np.linalg.det(S[k])**(-0.5)*np.exp(-0.5*np.dot(np.dot((x[i]-mu[k]), np.linalg.inv(S[k])), (x[i]-mu[k])))) for i in range(N)]\n"
     ]
    },
    {
     "ename": "LinAlgError",
     "evalue": "Singular matrix",
     "output_type": "error",
     "traceback": [
      "\u001b[1;31m---------------------------------------------------------------------------\u001b[0m",
      "\u001b[1;31mLinAlgError\u001b[0m                               Traceback (most recent call last)",
      "\u001b[1;32mc:\\Users\\ephei\\Downloads\\Python Notebooks\\A3Q3.ipynb Cell 6\u001b[0m line \u001b[0;36m3\n\u001b[0;32m     <a href='vscode-notebook-cell:/c%3A/Users/ephei/Downloads/Python%20Notebooks/A3Q3.ipynb#W6sZmlsZQ%3D%3D?line=32'>33</a>\u001b[0m     \u001b[39mreturn\u001b[39;00m mu, r, pi, S\n\u001b[0;32m     <a href='vscode-notebook-cell:/c%3A/Users/ephei/Downloads/Python%20Notebooks/A3Q3.ipynb#W6sZmlsZQ%3D%3D?line=35'>36</a>\u001b[0m \u001b[39m# mu, r, pi, S = gaussian_mixture_model(train, 5, 1)\u001b[39;00m\n\u001b[1;32m---> <a href='vscode-notebook-cell:/c%3A/Users/ephei/Downloads/Python%20Notebooks/A3Q3.ipynb#W6sZmlsZQ%3D%3D?line=36'>37</a>\u001b[0m gaussian_mixture_model(train, \u001b[39m5\u001b[39;49m, \u001b[39m2\u001b[39;49m)\n",
      "\u001b[1;32mc:\\Users\\ephei\\Downloads\\Python Notebooks\\A3Q3.ipynb Cell 6\u001b[0m line \u001b[0;36m2\n\u001b[0;32m     <a href='vscode-notebook-cell:/c%3A/Users/ephei/Downloads/Python%20Notebooks/A3Q3.ipynb#W6sZmlsZQ%3D%3D?line=19'>20</a>\u001b[0m \u001b[39m# Calculate new GMM parameters for each cluster\u001b[39;00m\n\u001b[0;32m     <a href='vscode-notebook-cell:/c%3A/Users/ephei/Downloads/Python%20Notebooks/A3Q3.ipynb#W6sZmlsZQ%3D%3D?line=20'>21</a>\u001b[0m \u001b[39mfor\u001b[39;00m k \u001b[39min\u001b[39;00m \u001b[39mrange\u001b[39m(n_clusters):\n\u001b[1;32m---> <a href='vscode-notebook-cell:/c%3A/Users/ephei/Downloads/Python%20Notebooks/A3Q3.ipynb#W6sZmlsZQ%3D%3D?line=21'>22</a>\u001b[0m     r[k] \u001b[39m=\u001b[39m [(pi[k] \u001b[39m*\u001b[39m np\u001b[39m.\u001b[39mlinalg\u001b[39m.\u001b[39mdet(S[k])\u001b[39m*\u001b[39m\u001b[39m*\u001b[39m(\u001b[39m-\u001b[39m\u001b[39m0.5\u001b[39m)\u001b[39m*\u001b[39mnp\u001b[39m.\u001b[39mexp(\u001b[39m-\u001b[39m\u001b[39m0.5\u001b[39m\u001b[39m*\u001b[39mnp\u001b[39m.\u001b[39mdot(np\u001b[39m.\u001b[39mdot((x[i]\u001b[39m-\u001b[39mmu[k]), np\u001b[39m.\u001b[39mlinalg\u001b[39m.\u001b[39minv(S[k])), (x[i]\u001b[39m-\u001b[39mmu[k])))) \u001b[39mfor\u001b[39;00m i \u001b[39min\u001b[39;00m \u001b[39mrange\u001b[39m(N)]\n\u001b[0;32m     <a href='vscode-notebook-cell:/c%3A/Users/ephei/Downloads/Python%20Notebooks/A3Q3.ipynb#W6sZmlsZQ%3D%3D?line=22'>23</a>\u001b[0m     r[k] \u001b[39m=\u001b[39m r[k] \u001b[39m/\u001b[39m \u001b[39mmax\u001b[39m(r[k])\n\u001b[0;32m     <a href='vscode-notebook-cell:/c%3A/Users/ephei/Downloads/Python%20Notebooks/A3Q3.ipynb#W6sZmlsZQ%3D%3D?line=23'>24</a>\u001b[0m     pi[k] \u001b[39m=\u001b[39m \u001b[39msum\u001b[39m([r[k][i] \u001b[39mfor\u001b[39;00m i \u001b[39min\u001b[39;00m \u001b[39mrange\u001b[39m(N)]) \u001b[39m/\u001b[39m N\n",
      "\u001b[1;32mc:\\Users\\ephei\\Downloads\\Python Notebooks\\A3Q3.ipynb Cell 6\u001b[0m line \u001b[0;36m2\n\u001b[0;32m     <a href='vscode-notebook-cell:/c%3A/Users/ephei/Downloads/Python%20Notebooks/A3Q3.ipynb#W6sZmlsZQ%3D%3D?line=19'>20</a>\u001b[0m \u001b[39m# Calculate new GMM parameters for each cluster\u001b[39;00m\n\u001b[0;32m     <a href='vscode-notebook-cell:/c%3A/Users/ephei/Downloads/Python%20Notebooks/A3Q3.ipynb#W6sZmlsZQ%3D%3D?line=20'>21</a>\u001b[0m \u001b[39mfor\u001b[39;00m k \u001b[39min\u001b[39;00m \u001b[39mrange\u001b[39m(n_clusters):\n\u001b[1;32m---> <a href='vscode-notebook-cell:/c%3A/Users/ephei/Downloads/Python%20Notebooks/A3Q3.ipynb#W6sZmlsZQ%3D%3D?line=21'>22</a>\u001b[0m     r[k] \u001b[39m=\u001b[39m [(pi[k] \u001b[39m*\u001b[39m np\u001b[39m.\u001b[39mlinalg\u001b[39m.\u001b[39mdet(S[k])\u001b[39m*\u001b[39m\u001b[39m*\u001b[39m(\u001b[39m-\u001b[39m\u001b[39m0.5\u001b[39m)\u001b[39m*\u001b[39mnp\u001b[39m.\u001b[39mexp(\u001b[39m-\u001b[39m\u001b[39m0.5\u001b[39m\u001b[39m*\u001b[39mnp\u001b[39m.\u001b[39mdot(np\u001b[39m.\u001b[39mdot((x[i]\u001b[39m-\u001b[39mmu[k]), np\u001b[39m.\u001b[39;49mlinalg\u001b[39m.\u001b[39;49minv(S[k])), (x[i]\u001b[39m-\u001b[39mmu[k])))) \u001b[39mfor\u001b[39;00m i \u001b[39min\u001b[39;00m \u001b[39mrange\u001b[39m(N)]\n\u001b[0;32m     <a href='vscode-notebook-cell:/c%3A/Users/ephei/Downloads/Python%20Notebooks/A3Q3.ipynb#W6sZmlsZQ%3D%3D?line=22'>23</a>\u001b[0m     r[k] \u001b[39m=\u001b[39m r[k] \u001b[39m/\u001b[39m \u001b[39mmax\u001b[39m(r[k])\n\u001b[0;32m     <a href='vscode-notebook-cell:/c%3A/Users/ephei/Downloads/Python%20Notebooks/A3Q3.ipynb#W6sZmlsZQ%3D%3D?line=23'>24</a>\u001b[0m     pi[k] \u001b[39m=\u001b[39m \u001b[39msum\u001b[39m([r[k][i] \u001b[39mfor\u001b[39;00m i \u001b[39min\u001b[39;00m \u001b[39mrange\u001b[39m(N)]) \u001b[39m/\u001b[39m N\n",
      "File \u001b[1;32m<__array_function__ internals>:200\u001b[0m, in \u001b[0;36minv\u001b[1;34m(*args, **kwargs)\u001b[0m\n",
      "File \u001b[1;32mc:\\Users\\ephei\\AppData\\Local\\Programs\\Python\\Python310\\lib\\site-packages\\numpy\\linalg\\linalg.py:538\u001b[0m, in \u001b[0;36minv\u001b[1;34m(a)\u001b[0m\n\u001b[0;32m    536\u001b[0m signature \u001b[39m=\u001b[39m \u001b[39m'\u001b[39m\u001b[39mD->D\u001b[39m\u001b[39m'\u001b[39m \u001b[39mif\u001b[39;00m isComplexType(t) \u001b[39melse\u001b[39;00m \u001b[39m'\u001b[39m\u001b[39md->d\u001b[39m\u001b[39m'\u001b[39m\n\u001b[0;32m    537\u001b[0m extobj \u001b[39m=\u001b[39m get_linalg_error_extobj(_raise_linalgerror_singular)\n\u001b[1;32m--> 538\u001b[0m ainv \u001b[39m=\u001b[39m _umath_linalg\u001b[39m.\u001b[39;49minv(a, signature\u001b[39m=\u001b[39;49msignature, extobj\u001b[39m=\u001b[39;49mextobj)\n\u001b[0;32m    539\u001b[0m \u001b[39mreturn\u001b[39;00m wrap(ainv\u001b[39m.\u001b[39mastype(result_t, copy\u001b[39m=\u001b[39m\u001b[39mFalse\u001b[39;00m))\n",
      "File \u001b[1;32mc:\\Users\\ephei\\AppData\\Local\\Programs\\Python\\Python310\\lib\\site-packages\\numpy\\linalg\\linalg.py:89\u001b[0m, in \u001b[0;36m_raise_linalgerror_singular\u001b[1;34m(err, flag)\u001b[0m\n\u001b[0;32m     88\u001b[0m \u001b[39mdef\u001b[39;00m \u001b[39m_raise_linalgerror_singular\u001b[39m(err, flag):\n\u001b[1;32m---> 89\u001b[0m     \u001b[39mraise\u001b[39;00m LinAlgError(\u001b[39m\"\u001b[39m\u001b[39mSingular matrix\u001b[39m\u001b[39m\"\u001b[39m)\n",
      "\u001b[1;31mLinAlgError\u001b[0m: Singular matrix"
     ]
    }
   ],
   "source": [
    "# Training K-Means classifier\n",
    "def gaussian_mixture_model(x, n_clusters, max_iter):\n",
    "\n",
    "    # Cleaning Step: Normalizing/re-scaling the data\n",
    "    x = x/max([max(datapoint) for datapoint in x])\n",
    "\n",
    "    # Random initialization\n",
    "    N = x.shape[0]\n",
    "    pi = np.array([n_clusters**-1] * n_clusters)  # n_clusters x 1\n",
    "    mu = x[np.random.choice(N, size=n_clusters, replace=False)]  # n_clusters x d\n",
    "    S = np.array([np.diag(np.add(np.random.rand(1, x.shape[1])[0], 0.5)) for k in range(n_clusters)])  # n_clusters x d x d\n",
    "\n",
    "    # Track loss\n",
    "    loss = []\n",
    "\n",
    "    # Iteratively optimize each GMM\n",
    "    for iteration in range(max_iter):\n",
    "        r = np.zeros((n_clusters, N))\n",
    "\n",
    "        # Calculate new GMM parameters for each cluster\n",
    "        for k in range(n_clusters):\n",
    "            r[k] = [(pi[k] * np.linalg.det(S[k])**(-0.5)*np.exp(-0.5*np.dot(np.dot((x[i]-mu[k]), np.linalg.inv(S[k])), (x[i]-mu[k])))) for i in range(N)]\n",
    "            r[k] = r[k] / sum(r[k])\n",
    "            pi[k] = sum([r[k][i] for i in range(N)]) / N\n",
    "            mu[k] = sum([r[k][i] * x[i] for i in range(N)]) / sum(r[k])\n",
    "            S[k] = sum([np.dot(r[k][i] * x[i], x[i]) * (1/sum(r[k])) for i in range(N)]) - np.dot(mu[k], mu[k])\n",
    "            \n",
    "        # Compute loss for this iteration\n",
    "        loss.append(-sum(np.log([sum(r[k])*(2*np.pi)**(-0.5*x.shape[1]) for k in range(n_clusters)])))\n",
    "        print(\"Loss at iteration \", iteration, \" is \", loss[iteration])\n",
    "\n",
    "    # Return cluster centers\n",
    "    return mu, r, pi, S\n",
    "    \n",
    "\n",
    "# mu, r, pi, S = gaussian_mixture_model(train, 5, 1)\n",
    "gaussian_mixture_model(train, 5, 2)"
   ]
  },
  {
   "cell_type": "code",
   "execution_count": 165,
   "metadata": {},
   "outputs": [
    {
     "name": "stdout",
     "output_type": "stream",
     "text": [
      "Cluster centers:  [[0 0 0 ... 0 0 0]\n",
      " [0 0 0 ... 0 0 0]\n",
      " [0 0 0 ... 0 0 0]\n",
      " [0 0 0 ... 0 0 0]\n",
      " [0 0 0 ... 0 0 0]]\n"
     ]
    },
    {
     "data": {
      "text/plain": [
       "array([  0,   0,   0,   0,   0,   0,   0,   0,   0,   0,   0,   0,   0,\n",
       "         0,   0,   0,   0,   0,   0,   0,   0,   0,   0,   0,   0,   0,\n",
       "         0,   0,   0,   0,   0,   0,   0,   0,   0,   0,   0,   0,   0,\n",
       "         0,   0,   0,   0,   0,   0,   0,   0,   0,   0,   0,   0,   0,\n",
       "         0,   0,   0,   0,   0,   0,   0,   0,   0,   0,   0,   0,   0,\n",
       "         0,   0,   0,   0,   0,   0,   0,   0,   0,   0,   0,   0,   0,\n",
       "         0,   0,   0,   0,   0,   0,   0,   0,   0,   0,   0,   0,   0,\n",
       "         0,   0,   0,   0,   0,   0,   0,   0,   0, 202, 231,  92,   0,\n",
       "         0,   0,   0,   0,   0,   0,   0,   0,   0,   0,   0,   0,   0,\n",
       "         0,   0,   0,   0,   0,   0,   0,   0,   0,   0,  47, 247, 254,\n",
       "       250,  30,   0,   0,   0,   0,   0,   0,   0,   0,   0,   0,   0,\n",
       "         0,   0,   0,   0,   0,   0,   0,   0,   0,   0,   0,   0, 133,\n",
       "       254, 254, 254,  73,   0,   0,   0,   0,   0,   0,   0,   0,   0,\n",
       "         0,   0,   0,   0,   0,   0,   0,   0,   0,   0,   0,   0,   0,\n",
       "        37, 221, 254, 254, 232,  13,   0,   0,   0,   0,   0,   0,   0,\n",
       "         0,   0,   0,   0,   0,   0,   0,   0,   0,   0,   0,   0,   0,\n",
       "         0,   0, 141, 254, 254, 192,  48,   0,   0,   0,   0,   0,   0,\n",
       "         0,   0,   0,   0,   0,   0,   0,   0,   0,   0,   0,   0,   0,\n",
       "         0,   0,   0,  76, 251, 254, 145,   8,   0,   0,   0,   0,   0,\n",
       "         0,   0,   0,   0,   0,   0,   0,   0,   0,   0,   0,   0,   0,\n",
       "         0,   0,   0,   0,   0, 162, 254, 194,  12,   0,   0,   0,   0,\n",
       "         0,   0,   0,   0,   0,   0,   0,   0,   0,   0,   0,   0,   0,\n",
       "         0,   0,   0,   0,   0,   0,  12, 235, 255, 197,   0,   0,   0,\n",
       "         0,   0,   0,   0,   0,   0,   0,   0,   0,   0,   0,   0,   0,\n",
       "         0,   0,   0,   0,   0,   0,   0,   0,  87, 254, 237,  44,   0,\n",
       "         0,   0,   0,   0,   0,   0,   0,   0,   0,   0,   0,   0,   0,\n",
       "         0,   0,   0,   0,   0,   0,   0,   0,   0,   1, 190, 254, 201,\n",
       "         0,   0,   0,   0,   0,   0,   0,   0,   0,   0,   0,   0,   0,\n",
       "         0,   0,   0,   0,   0,   0,   0,   0,   0,   0,   0,   5, 254,\n",
       "       254, 117,   0,   0,   0,   0,   0,   0,   0,   0,   0,   0,   0,\n",
       "         0,   0,   0,   0,   0,   0,   0,   0,   0,   0,   0,   0,   0,\n",
       "        98, 254, 229,  50, 188, 134,  46,   0,   0,   0,   0,   0,   0,\n",
       "         0,   0,   0,   0,   0,   0,   0,   0,   0,   0,   0,   0,   0,\n",
       "         0,   0, 242, 254, 253, 246, 254, 254, 225,  78,   0,   0,   0,\n",
       "         0,   0,   0,   0,   0,   0,   0,   0,   0,   0,   0,   0,   0,\n",
       "         0,   0,   0,   3, 247, 254, 254, 254, 254, 254, 254, 165,   0,\n",
       "         0,   0,   0,   0,   0,   0,   0,   0,   0,   0,   0,   0,   0,\n",
       "         0,   0,   0,   0,   0,  74, 254, 254, 254, 254, 156, 237, 254,\n",
       "       165,   0,   0,   0,   0,   0,   0,   0,   0,   0,   0,   0,   0,\n",
       "         0,   0,   0,   0,   0,   0,   0,  74, 254, 254, 254, 187,  73,\n",
       "       254, 254,  94,   0,   0,   0,   0,   0,   0,   0,   0,   0,   0,\n",
       "         0,   0,   0,   0,   0,   0,   0,   0,   0, 114, 254, 254, 128,\n",
       "        73, 232, 254, 216,   2,   0,   0,   0,   0,   0,   0,   0,   0,\n",
       "         0,   0,   0,   0,   0,   0,   0,   0,   0,   0,   0,  69, 253,\n",
       "       254, 251, 236, 254, 240,  87,   0,   0,   0,   0,   0,   0,   0,\n",
       "         0,   0,   0,   0,   0,   0,   0,   0,   0,   0,   0,   0,   0,\n",
       "         0, 225, 254, 254, 254, 254, 121,   0,   0,   0,   0,   0,   0,\n",
       "         0,   0,   0,   0,   0,   0,   0,   0,   0,   0,   0,   0,   0,\n",
       "         0,   0,   0,  36, 204, 254, 190,  89,   2,   0,   0,   0,   0,\n",
       "         0,   0,   0,   0,   0,   0,   0,   0,   0,   0,   0,   0,   0,\n",
       "         0,   0,   0,   0,   0,   0,   0,   0,   0,   0,   0,   0,   0,\n",
       "         0,   0,   0,   0,   0,   0,   0,   0,   0,   0,   0,   0,   0,\n",
       "         0,   0,   0,   0,   0,   0,   0,   0,   0,   0,   0,   0,   0,\n",
       "         0,   0,   0,   0,   0,   0,   0,   0,   0,   0,   0,   0,   0,\n",
       "         0,   0,   0,   0,   0,   0,   0,   0,   0,   0,   0,   0,   0,\n",
       "         0,   0,   0,   0,   0,   0,   0,   0,   0,   0,   0,   0,   0,\n",
       "         0,   0,   0,   0,   0,   0,   0,   0,   0,   0,   0,   0,   0,\n",
       "         0,   0,   0,   0,   0,   0,   0,   0,   0,   0,   0,   0,   0,\n",
       "         0,   0,   0,   0,   0,   0,   0,   0,   0,   0,   0,   0,   0,\n",
       "         0,   0,   0,   0,   0,   0,   0,   0,   0,   0,   0,   0,   0,\n",
       "         0,   0,   0,   0])"
      ]
     },
     "execution_count": 165,
     "metadata": {},
     "output_type": "execute_result"
    }
   ],
   "source": [
    "print(\"Cluster centers: \", mu)\n",
    "\n",
    "# Expanding on the first cluster center because the above code is cut off\n",
    "mu[0]"
   ]
  },
  {
   "cell_type": "markdown",
   "metadata": {},
   "source": [
    "**Explanations are in order...**\n",
    "\n",
    "To preface, the code can only run for 1 iteration because I am unsure how to force the covariance to be a diagonal matrix. Subsequent iterations result in the determinant being undefined and crashing the program. For example, this is a sample covariance matrix for the first cluster after run 1:"
   ]
  },
  {
   "cell_type": "code",
   "execution_count": 169,
   "metadata": {},
   "outputs": [
    {
     "data": {
      "text/plain": [
       "((5, 784, 784),\n",
       " array([[0., 0., 0., ..., 0., 0., 0.],\n",
       "        [0., 0., 0., ..., 0., 0., 0.],\n",
       "        [0., 0., 0., ..., 0., 0., 0.],\n",
       "        ...,\n",
       "        [0., 0., 0., ..., 0., 0., 0.],\n",
       "        [0., 0., 0., ..., 0., 0., 0.],\n",
       "        [0., 0., 0., ..., 0., 0., 0.]]))"
      ]
     },
     "execution_count": 169,
     "metadata": {},
     "output_type": "execute_result"
    }
   ],
   "source": [
    "S.shape, S[0]"
   ]
  },
  {
   "cell_type": "markdown",
   "metadata": {},
   "source": [
    "The dimensions are correct (a $784\\times784$ matrix for each cluster) but it's clearly not a diagonal matrix. The cause of this is the $r_k^i$ calculation being off (only 1 value in $r_k^i$ is non-zero and that is the datapoint which was used to initialize it) which in turn is due to 2 reasons:\n",
    "\n",
    "1. The covariance matrix is very large, which causes the determinant to be extremely small (essentially 0). The determinant of a diagonal matrix is found by multiplying each entry on the diagonal, so if the variance is in the range [0,1] then it'll go to 0 whereas if the range is $>1$ then it'll tend to infinity. This effect is observed due to the large dimensions of 784x784, so I had to add a $0.5$ constant to the randomly generated covariance to balance out the determinant\n",
    "2. The 2nd reason is because of the exponent term $-0.5 (x_i - \\mu_k)^T S_k^{-1} (x_i - \\mu_k)$. For all values where $x_i\\ne \\mu_k$ (ie. every datapoint except for the one that was randomly initialized as the cluster center), this would result in a massive term, which lead to the entire $r_k^i$ term going to 0. Mathematically, it would be $r_k^i=C\\cdot e^{-\\infty}\\approx 0$. One way to troubleshoot this was scaling the $x_i$ input data and $mu_i$ down to [0,1] so that the inverse covariance would have a stronger regulating effect on the value and the exponent would not go to infinity"
   ]
  },
  {
   "cell_type": "code",
   "execution_count": 170,
   "metadata": {},
   "outputs": [
    {
     "data": {
      "text/plain": [
       "array([0., 0., 0., 0., 0., 0., 0., 0., 0., 0., 0., 0., 0., 0., 0., 0., 0.,\n",
       "       0., 0., 0., 0., 0., 0., 0., 0., 0., 1., 0., 0., 0., 0., 0., 0., 0.,\n",
       "       0., 0., 0., 0., 0., 0., 0., 0., 0., 0., 0., 0., 0., 0., 0., 0., 0.,\n",
       "       0., 0., 0., 0., 0., 0., 0., 0., 0., 0., 0., 0., 0., 0., 0., 0., 0.,\n",
       "       0., 0., 0., 0., 0., 0., 0., 0., 0., 0., 0., 0., 0., 0., 0., 0., 0.,\n",
       "       0., 0., 0., 0., 0., 0., 0., 0., 0., 0., 0., 0., 0., 0., 0.])"
      ]
     },
     "execution_count": 170,
     "metadata": {},
     "output_type": "execute_result"
    }
   ],
   "source": [
    "# Notice how r_k^i only has 1 non-zero value in each index\n",
    "r[0]"
   ]
  },
  {
   "cell_type": "code",
   "execution_count": 172,
   "metadata": {},
   "outputs": [
    {
     "name": "stdout",
     "output_type": "stream",
     "text": [
      "Exponent term:  -4009840.515796998\n",
      "Base^Exponent:  0.0\n"
     ]
    }
   ],
   "source": [
    "# In the calculation for r:\n",
    "# r[k] = [(pi[k] * np.linalg.det(S[k])**(-0.5)*np.exp(-0.5*np.dot(np.dot((x[i]-mu[k]), np.linalg.inv(S[k])), (x[i]-mu[k])))) for i in range(N)]\n",
    "# notice how the exponent term tends to infinity\n",
    "mu = train[np.random.choice(train.shape[0], size=n_clusters, replace=False)]  # n_clusters x d\n",
    "S = np.array([np.diag(np.add(np.random.rand(1, train.shape[1])[0], 0.5)) for _ in range(n_clusters)])  # n_clusters x d x d\n",
    "exponent = -0.5*np.dot(np.dot((train[0]-mu[1]), np.linalg.inv(S[0])), (train[0]-mu[1]))\n",
    "print(\"Exponent term: \", exponent)\n",
    "print(\"Base^Exponent: \", np.exp(exponent))"
   ]
  },
  {
   "cell_type": "code",
   "execution_count": 177,
   "metadata": {},
   "outputs": [
    {
     "name": "stdout",
     "output_type": "stream",
     "text": [
      "Case 1 - Covariance in [0,1]:  0.0\n",
      "Case 2 - Covariance in [1,2]:  1.5757227014032263e+127\n"
     ]
    }
   ],
   "source": [
    "# Next I want to demonstrate the issue with taking the determinant of a diagonal covariance matrix\n",
    "\n",
    "# Case 1: When the covariance range is [0,1], the determinant goes to 0\n",
    "S = np.array([np.diag(np.random.rand(1, train.shape[1])[0]) for _ in range(n_clusters)])  # n_clusters x d x d\n",
    "print(\"Case 1 - Covariance in [0,1]: \", np.linalg.det(S[0]))\n",
    "\n",
    "# Case 2: When the covariance range is greater than 1, the determinant goes to infinity\n",
    "# In this case, the range is [1,2]\n",
    "S = np.array([np.diag(np.add(np.random.rand(1, train.shape[1])[0], 1)) for k in range(n_clusters)])  # n_clusters x d x d\n",
    "print(\"Case 2 - Covariance in [1,2]: \", np.linalg.det(S[0]))\n",
    "\n",
    "# Therefore, careful scaling is necessary to avoid the snowball effect from having 784 dimensions of data"
   ]
  },
  {
   "cell_type": "markdown",
   "metadata": {},
   "source": [
    "Issues aside, the remaining report will focus on the implementation process:"
   ]
  },
  {
   "cell_type": "markdown",
   "metadata": {},
   "source": [
    "**Step 1: Initializing the algorithm**\n",
    "\n",
    "I randomly initialized the parameters:\n",
    "* $\\pi$: Creating a uniform distribution across all clusters (ex. if `N=4` then it would be `[0.25, 0.25, 0.25, 0.25]`)\n",
    "* $\\mu$: Randomly selecting $N$ points to be the cluster means\n",
    "* $S$: Randomly generating numbers between $[0,1]$ then adding $0.5$ due to the aforementioned scaling issue. This array was diagonalized via Numpy to satisfy the requirement that the covariance is a diagonal matrix"
   ]
  },
  {
   "cell_type": "markdown",
   "metadata": {},
   "source": [
    "```py\n",
    "# Random initialization\n",
    "pi = np.array([n_clusters**-1] * n_clusters)\n",
    "mu = x[np.random.choice(N, size=n_clusters, replace=False)]\n",
    "S = np.array([np.diag(np.add(np.random.rand(1, x.shape[1])[0], 0.5)) for k in range(n_clusters)])"
   ]
  },
  {
   "cell_type": "markdown",
   "metadata": {},
   "source": [
    "**Step 2: Calculating initial weights, $r^i_k$** (ie. E-step)\n",
    "\n",
    "I tried to mirror the provided formulas as much as possible:\n",
    "\n",
    "$r_{ik} \\leftarrow \\pi_k |S_k|^{0.5} e^{-0.5(x_i-\\mu_k)^T S_k^{-1}(x_i-\\mu_k)}$\n",
    "\n",
    "```py\n",
    "r[k] = [(pi[k] * np.linalg.det(S[k])**(-0.5)*np.exp(-0.5*\n",
    "                    np.dot(np.dot((x[i]-mu[k]), np.linalg.inv(S[k])), \n",
    "                          (x[i]-mu[k])))) for i in range(N)]\n",
    "```\n",
    "\n",
    "As mentioned, I found that the exponent term tended to infinity so the overall $r_k^i$ evaluated to 0 which caused a ripple effect for all other parameters\n",
    "\n",
    "I then followed the assignment walkthrough and normalized the $r_k^i$ vector:\n",
    "\n",
    "```py \n",
    "r[k] = r[k] / sum(r[k])\n",
    "```"
   ]
  },
  {
   "cell_type": "markdown",
   "metadata": {},
   "source": [
    "**Step 3: Re-calculating the parameters $\\mu, \\pi, S$** (ie. M-step)\n",
    "\n",
    "These also followed the provided equations\n",
    "\n",
    "$$\n",
    "\\begin{align}\n",
    "    \\pi_k &\\leftarrow \\frac{r_{.k}}{n} \\\\\n",
    "    \\mu_k &\\leftarrow \\frac{\\sum^n_{i=1} r_{ik}x_i}{r_{.k}} \\\\\n",
    "    S_k &\\leftarrow \\frac{\\sum_{i=1}^n r_{ik} x_i x_i^T}{r_{.k}} - \\mu_k \\mu_k^T\n",
    "\\end{align}\n",
    "$$\n",
    "\n",
    "```py\n",
    "pi[k] = sum([r[k][i] for i in range(N)]) / N\n",
    "mu[k] = sum([r[k][i] * x[i] for i in range(N)]) / sum(r[k])\n",
    "S[k] = sum([np.dot(r[k][i] * x[i], x[i]) * (1/sum(r[k])) for i in range(N)]) - np.dot(mu[k], mu[k])\n",
    "```\n",
    "\n",
    "$\\mu$ and $x$ should be scaled down ideally to [0,1]. One way is by directly normalizing the data via a scaling factor, s. This is to prevent certain values from growing too fast within the summation operations"
   ]
  },
  {
   "attachments": {
    "image-2.png": {
     "image/png": "[encoded data removed]"
    },
    "image.png": {
     "image/png": "[encoded data removed]"
    }
   },
   "cell_type": "markdown",
   "metadata": {},
   "source": [
    "#### Step 4: Loss calculation, $L$\n",
    "\n",
    "I maintained a list tracking the loss: `loss=[]` and appended after each iteration:\n",
    "\n",
    "```py\n",
    "loss.append(-sum(np.log([sum(r[k])*(2*np.pi)**(-0.5*x.shape[1]) for k in range(n_clusters)])))\n",
    "```\n",
    "\n",
    "Rather than rewrite the complete loss function that was provided, I multiplied $r_k^i$ by $2\\pi^{-0.5d}$ as $r_k^i$ includes a significant portion of the loss function:\n",
    "\n",
    "![image.png](attachment:image.png)\n",
    "\n",
    "![image-2.png](attachment:image-2.png)"
   ]
  },
  {
   "cell_type": "markdown",
   "metadata": {},
   "source": [
    "**Note 1: Stopping condition**\n",
    "\n",
    "I chose to not implement the stopping condition of $L$ being less than a user-defined acceptable error margin. Instead, my implementation runs for the specified iterations even if the code has or has not converged. I chose this to avoid the long runtime that would result from the added iterations. Below is an implementation of the stopping condition:"
   ]
  },
  {
   "cell_type": "code",
   "execution_count": 182,
   "metadata": {},
   "outputs": [],
   "source": [
    "def gmm(x, max_iter=10, error=10):\n",
    "    iteration = 0\n",
    "    loss = []\n",
    "\n",
    "    while iteration < max_iter:\n",
    "        # run the algorithm...\n",
    "\n",
    "        # compute loss and check stopping condition\n",
    "        if loss[iteration-1] - loss[iteration] < error:\n",
    "            return\n",
    "        else:\n",
    "            iteration += 1\n",
    "        \n",
    "    return "
   ]
  },
  {
   "cell_type": "markdown",
   "metadata": {},
   "source": [
    "#### Part 3.2: Applying GMM to the MNIST \n",
    "\n",
    "I messed up the initial GMM implementation so instead, I'll follow the principles of GMM and create my own version of the algorithm. It will essentially be K-Means but with clusters modelled after Gaussian distributions and movement between clusters dictated by the weights computed from the normal distribution."
   ]
  },
  {
   "cell_type": "code",
   "execution_count": 186,
   "metadata": {},
   "outputs": [
    {
     "ename": "ValueError",
     "evalue": "setting an array element with a sequence.",
     "output_type": "error",
     "traceback": [
      "\u001b[1;31m---------------------------------------------------------------------------\u001b[0m",
      "\u001b[1;31mTypeError\u001b[0m                                 Traceback (most recent call last)",
      "\u001b[1;31mTypeError\u001b[0m: only size-1 arrays can be converted to Python scalars",
      "\nThe above exception was the direct cause of the following exception:\n",
      "\u001b[1;31mValueError\u001b[0m                                Traceback (most recent call last)",
      "\u001b[1;32mc:\\Users\\ephei\\Downloads\\Python Notebooks\\A3Q3.ipynb Cell 23\u001b[0m line \u001b[0;36m2\n\u001b[0;32m     <a href='vscode-notebook-cell:/c%3A/Users/ephei/Downloads/Python%20Notebooks/A3Q3.ipynb#X43sZmlsZQ%3D%3D?line=23'>24</a>\u001b[0m         iteration \u001b[39m+\u001b[39m\u001b[39m=\u001b[39m \u001b[39m1\u001b[39m\n\u001b[0;32m     <a href='vscode-notebook-cell:/c%3A/Users/ephei/Downloads/Python%20Notebooks/A3Q3.ipynb#X43sZmlsZQ%3D%3D?line=25'>26</a>\u001b[0m     \u001b[39mreturn\u001b[39;00m \n\u001b[1;32m---> <a href='vscode-notebook-cell:/c%3A/Users/ephei/Downloads/Python%20Notebooks/A3Q3.ipynb#X43sZmlsZQ%3D%3D?line=27'>28</a>\u001b[0m modified_gmm(train)\n",
      "\u001b[1;32mc:\\Users\\ephei\\Downloads\\Python Notebooks\\A3Q3.ipynb Cell 23\u001b[0m line \u001b[0;36m1\n\u001b[0;32m     <a href='vscode-notebook-cell:/c%3A/Users/ephei/Downloads/Python%20Notebooks/A3Q3.ipynb#X43sZmlsZQ%3D%3D?line=16'>17</a>\u001b[0m \u001b[39mfor\u001b[39;00m k \u001b[39min\u001b[39;00m \u001b[39mrange\u001b[39m(K):\n\u001b[0;32m     <a href='vscode-notebook-cell:/c%3A/Users/ephei/Downloads/Python%20Notebooks/A3Q3.ipynb#X43sZmlsZQ%3D%3D?line=17'>18</a>\u001b[0m     \u001b[39mfor\u001b[39;00m i \u001b[39min\u001b[39;00m \u001b[39mrange\u001b[39m(N):\n\u001b[1;32m---> <a href='vscode-notebook-cell:/c%3A/Users/ephei/Downloads/Python%20Notebooks/A3Q3.ipynb#X43sZmlsZQ%3D%3D?line=18'>19</a>\u001b[0m         pi[k][i] \u001b[39m=\u001b[39m x[i] \u001b[39m-\u001b[39m mu[k]\n\u001b[0;32m     <a href='vscode-notebook-cell:/c%3A/Users/ephei/Downloads/Python%20Notebooks/A3Q3.ipynb#X43sZmlsZQ%3D%3D?line=20'>21</a>\u001b[0m \u001b[39m# Step 4: Compute loss and check stopping condition \u001b[39;00m\n\u001b[0;32m     <a href='vscode-notebook-cell:/c%3A/Users/ephei/Downloads/Python%20Notebooks/A3Q3.ipynb#X43sZmlsZQ%3D%3D?line=21'>22</a>\u001b[0m \u001b[39mif\u001b[39;00m iteration \u001b[39m>\u001b[39m \u001b[39m1\u001b[39m \u001b[39m&\u001b[39m loss[iteration\u001b[39m-\u001b[39m\u001b[39m1\u001b[39m] \u001b[39m-\u001b[39m loss[iteration] \u001b[39m<\u001b[39m error:\n",
      "\u001b[1;31mValueError\u001b[0m: setting an array element with a sequence."
     ]
    }
   ],
   "source": [
    "def modified_gmm(x, K=5, max_iter=4, error=10):\n",
    "    iteration = 0\n",
    "    loss = []\n",
    "\n",
    "    # Cleaning Step: Normalizing/re-scaling the data\n",
    "    x = x/max([max(datapoint) for datapoint in x])\n",
    "\n",
    "    # Step 1: Random initialization \n",
    "    N = x.shape[0]\n",
    "    pi = np.ones((K, N))\n",
    "    mu = x[np.random.choice(N, size=n_clusters, replace=False)]\n",
    "    S = [np.random.rand(1, x.shape[1]) for _ in range(K)]\n",
    "\n",
    "    while iteration < max_iter:\n",
    "\n",
    "        # Step 2: Initial cluster assignment by Manhattan distance\n",
    "        for k in range(K):\n",
    "            for i in range(N):\n",
    "                pi[k][i] = x[i] - mu[k]\n",
    "\n",
    "        # Step 4: Compute loss and check stopping condition \n",
    "        if iteration > 1 & loss[iteration-1] - loss[iteration] < error:\n",
    "            return\n",
    "        iteration += 1\n",
    "\n",
    "    return \n",
    "\n",
    "modified_gmm(train)\n"
   ]
  },
  {
   "cell_type": "code",
   "execution_count": null,
   "metadata": {},
   "outputs": [],
   "source": []
  }
 ],
 "metadata": {
  "kernelspec": {
   "display_name": "Python 3",
   "language": "python",
   "name": "python3"
  },
  "language_info": {
   "codemirror_mode": {
    "name": "ipython",
    "version": 3
   },
   "file_extension": ".py",
   "mimetype": "text/x-python",
   "name": "python",
   "nbconvert_exporter": "python",
   "pygments_lexer": "ipython3",
   "version": "3.10.4"
  }
 },
 "nbformat": 4,
 "nbformat_minor": 2
}

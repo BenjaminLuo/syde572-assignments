{
 "cells": [
  {
   "cell_type": "markdown",
   "metadata": {},
   "source": [
    "#### A2Q3.4: ML Classifiers"
   ]
  },
  {
   "cell_type": "code",
   "execution_count": 115,
   "metadata": {},
   "outputs": [],
   "source": [
    "# Initialize the libraries\n",
    "import numpy as np\n",
    "import matplotlib.pyplot as plt\n",
    "from scipy.stats import multivariate_normal"
   ]
  },
  {
   "cell_type": "code",
   "execution_count": 116,
   "metadata": {},
   "outputs": [],
   "source": [
    "# Data Generation\n",
    "num_samples = 100\n",
    "\n",
    "mu_1 = 0.5\n",
    "mu_2 = 5\n",
    "mu_noise = 0\n",
    "\n",
    "std_1 = 1\n",
    "std_2 = 3\n",
    "std_noise = 1"
   ]
  },
  {
   "cell_type": "code",
   "execution_count": 117,
   "metadata": {},
   "outputs": [],
   "source": [
    "# Function to generate data\n",
    "def generate_sample(mu, std, count=num_samples):\n",
    "    return np.random.normal(mu, std, count)"
   ]
  },
  {
   "cell_type": "code",
   "execution_count": 118,
   "metadata": {},
   "outputs": [],
   "source": [
    "# Generate the data\n",
    "data_1 = generate_sample(mu_1, std_1)\n",
    "data_2 = generate_sample(mu_2, std_2)\n",
    "\n",
    "noise = generate_sample(mu_noise, std_noise, 100)\n",
    "\n",
    "test_data_1 = generate_sample(mu_1, std_1, 50) + noise[0:50]\n",
    "test_data_2 = generate_sample(mu_2, std_2, 50) + noise[50:100]"
   ]
  },
  {
   "cell_type": "code",
   "execution_count": 119,
   "metadata": {},
   "outputs": [
    {
     "data": {
      "text/plain": [
       "array([-2.77651121, -0.32663662, -1.49982539,  0.57323303, -1.61799668,\n",
       "        0.4933931 ,  1.7571771 , -1.87903631,  1.46142584,  0.38000059,\n",
       "        1.4016991 ,  1.50694044,  0.87608122, -0.61112757,  2.4335928 ,\n",
       "        3.11936723,  0.70277584, -1.26064168, -0.48719954, -0.90298288,\n",
       "       -2.83091687, -0.74067987, -1.15908196,  2.00543561,  1.33343734,\n",
       "        1.42615985, -0.63502931,  1.64146036, -0.20408016,  1.0036063 ,\n",
       "        1.31371036,  2.28834699,  3.28685321, -1.02982409,  0.64625461,\n",
       "        1.95947879,  0.15290659, -0.53120965, -2.60936232, -0.56935805,\n",
       "       -0.58062767, -0.3081012 , -0.88112466, -2.50052597,  1.40030908,\n",
       "       -0.54094115,  1.97412541,  2.02070661,  1.95353542, -0.55757141,\n",
       "        5.30195765,  7.34419195,  2.81329515,  2.41304013,  4.03419644,\n",
       "        1.06479014,  3.53827991,  7.59472388,  5.09340244,  3.60137107,\n",
       "        5.5275106 ,  0.81885724,  9.00740391,  2.8831288 , 10.38564532,\n",
       "        3.02965516, -0.11866032, -0.45390257, 11.55602088, 10.93991172,\n",
       "        9.55249313,  6.35796824,  7.06277884, 11.6154217 ,  4.4257748 ,\n",
       "       -1.7372093 ,  5.23236158,  1.55690975, 11.19637545,  3.76108222,\n",
       "        5.79076425,  2.08393372, -3.48064054,  4.63609492, 11.55575921,\n",
       "        6.73960788,  7.88406551,  3.34728933,  4.04225184,  4.01690141,\n",
       "        5.32120383, -2.60052672,  7.07756437, 12.04385615,  9.79352525,\n",
       "        0.83707781,  3.50663764,  5.30961595,  0.0671473 ,  3.40386771])"
      ]
     },
     "execution_count": 119,
     "metadata": {},
     "output_type": "execute_result"
    }
   ],
   "source": [
    "# Creating the test set\n",
    "test_data = np.append(test_data_1, test_data_2)\n",
    "test_data"
   ]
  },
  {
   "cell_type": "code",
   "execution_count": 120,
   "metadata": {},
   "outputs": [],
   "source": [
    "# Parameters\n",
    "\n",
    "# Exponential\n",
    "lambda_1 = data_1.size / sum(data_1)\n",
    "lambda_2 = data_2.size / sum(data_2)\n",
    "\n",
    "# Uniform\n",
    "b_1 = max(data_1)\n",
    "a_1 = min(data_1)\n",
    "b_2 = max(data_2)\n",
    "a_2 = min(data_2)\n",
    "\n",
    "# Normal x Exponential\n",
    "mu_1 = sum(data_1) / data_1.size\n",
    "mu_2 = sum(data_2) / data_2.size\n",
    "std_1 = sum([(i-mu_1)**2 for i in data_1]) / data_1.size\n",
    "std_2 = sum([(i-mu_2)**2 for i in data_2]) / data_2.size"
   ]
  },
  {
   "cell_type": "code",
   "execution_count": 121,
   "metadata": {},
   "outputs": [],
   "source": [
    "# Classifiers\n",
    "def exponential_classifier(point):\n",
    "    p_class_1 = lambda_1 * np.exp(-lambda_1 * point)\n",
    "    p_class_2 = lambda_2 * np.exp(-lambda_2 * point)\n",
    "    return 1 if p_class_1 >= p_class_2 else 2\n",
    "\n",
    "\n",
    "def uniform_classifier(point):\n",
    "    p_class_1 = (b_1 - point) / (b_1 - a_1)\n",
    "    p_class_2 = (b_2 - point) / (b_2 - a_2)\n",
    "    return 1 if p_class_1 >= p_class_2 else 2\n",
    "\n",
    "\n",
    "def normal_classifier(point):\n",
    "    p_class_1 = 0.5*((1/(std_1 * (2*np.pi)**(1/2))) * np.exp(-(point-mu_1)\n",
    "                     ** 2/(2*std_1**2))*lambda_1 * np.exp(-lambda_1 * point))\n",
    "    p_class_2 = 0.5*((1/(std_2 * (2*np.pi)**(1/2))) * np.exp(-(point-mu_2)\n",
    "                     ** 2/(2*std_2**2))*lambda_2 * np.exp(-lambda_2 * point))\n",
    "    return 1 if p_class_1 >= p_class_2 else 2\n"
   ]
  },
  {
   "cell_type": "code",
   "execution_count": 122,
   "metadata": {},
   "outputs": [
    {
     "name": "stdout",
     "output_type": "stream",
     "text": [
      "Accuracies: \n",
      "Exponential:  0.7300000000000001\n",
      "Uniform:  0.53\n",
      "Normal:  0.81\n"
     ]
    }
   ],
   "source": [
    "classifications_exp = [exponential_classifier(i) for i in test_data]\n",
    "classifications_uni = [uniform_classifier(i) for i in test_data]\n",
    "classifications_norm = [normal_classifier(i) for i in test_data]\n",
    "\n",
    "acc = lambda x: (1-(sum(x[0:50]) - 50)/50 + 1-(100 - sum(x[50:100]))/50) / 2\n",
    "\n",
    "accuracy_exp = acc(classifications_exp)\n",
    "accuracy_uni = acc(classifications_uni)\n",
    "accuracy_norm = acc(classifications_norm)\n",
    "\n",
    "print(\"Accuracies: \")\n",
    "print(\"Exponential: \", accuracy_exp)\n",
    "print(\"Uniform: \", accuracy_uni)\n",
    "print(\"Normal: \", accuracy_norm)\n"
   ]
  }
 ],
 "metadata": {
  "kernelspec": {
   "display_name": "Python 3",
   "language": "python",
   "name": "python3"
  },
  "language_info": {
   "codemirror_mode": {
    "name": "ipython",
    "version": 3
   },
   "file_extension": ".py",
   "mimetype": "text/x-python",
   "name": "python",
   "nbconvert_exporter": "python",
   "pygments_lexer": "ipython3",
   "version": "3.10.4"
  },
  "orig_nbformat": 4
 },
 "nbformat": 4,
 "nbformat_minor": 2
}

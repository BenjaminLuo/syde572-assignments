{
 "cells": [
  {
   "cell_type": "markdown",
   "metadata": {},
   "source": [
    "### Exercise 1: MMD Classifier"
   ]
  },
  {
   "cell_type": "code",
   "execution_count": 8,
   "metadata": {},
   "outputs": [],
   "source": [
    "# Initialize the libraries\n",
    "import numpy as np\n",
    "import matplotlib.pyplot as plt\n",
    "from scipy.stats import multivariate_normal"
   ]
  },
  {
   "cell_type": "markdown",
   "metadata": {},
   "source": [
    "#### 1.1 Data Generation and Mean/Covariance\n"
   ]
  },
  {
   "cell_type": "code",
   "execution_count": 9,
   "metadata": {},
   "outputs": [],
   "source": [
    "# Define the 3 distributions\n",
    "num_samples = 5\n",
    "\n",
    "mu_1 = [1, 3]\n",
    "cov_1 = [[1, 0], [0, 15]]\n",
    "\n",
    "mu_2 = [20, 31]\n",
    "cov_2 = [[3, 4], [4, 11]]\n",
    "\n",
    "mu_noise = [2, 2]\n",
    "cov_noise = [[2, 0], [0, 3]]"
   ]
  },
  {
   "cell_type": "code",
   "execution_count": 10,
   "metadata": {},
   "outputs": [],
   "source": [
    "# Function to generate data\n",
    "def generate_sample(mu, cov, count=num_samples):\n",
    "    sample = np.random.multivariate_normal(mu, cov, count)\n",
    "    return sample"
   ]
  },
  {
   "cell_type": "code",
   "execution_count": 11,
   "metadata": {},
   "outputs": [
    {
     "name": "stdout",
     "output_type": "stream",
     "text": [
      "Data 1:  [[ 3.95340659  3.4390567 ]\n",
      " [ 1.92944813 16.14402578]\n",
      " [ 1.83182392  0.52984839]\n",
      " [ 3.84105951  5.80069656]\n",
      " [ 8.35209216  1.12584255]]\n",
      "Data 2:  [[18.14535637 33.1688217 ]\n",
      " [22.13941989 40.34558097]\n",
      " [20.3387749  30.97205355]\n",
      " [25.02389545 38.67981994]\n",
      " [20.10217538 31.33779531]]\n"
     ]
    }
   ],
   "source": [
    "# Data Generation\n",
    "data_1 = generate_sample(mu_1, cov_1)\n",
    "data_2 = generate_sample(mu_2, cov_2)\n",
    "data_noise = generate_sample(mu_noise, cov_noise, num_samples * 2)\n",
    "\n",
    "# Adding Noise\n",
    "data_1 += data_noise[0:num_samples]\n",
    "data_2 += data_noise[num_samples:num_samples * 2]\n",
    "\n",
    "print(\"Data 1: \", data_1)\n",
    "print(\"Data 2: \", data_2)"
   ]
  },
  {
   "cell_type": "code",
   "execution_count": 12,
   "metadata": {},
   "outputs": [],
   "source": [
    "# Hard-coding for assignment purposes\n",
    "\n",
    "data_1 = [[-1.25737421,  5.92559082],\n",
    "          [1.52062909,  8.05500375],\n",
    "          [1.29638813, -0.94009448],\n",
    "          [6.47232269, 15.9746529],\n",
    "          [4.98939662,  5.25543094],]\n",
    "data_2 = [[19.95350678, 32.01806393],\n",
    "          [21.35713755, 31.68480223],\n",
    "          [20.42326683, 35.99912184],\n",
    "          [26.77981681, 35.81622049],\n",
    "          [23.34537644, 36.63523652],]\n"
   ]
  },
  {
   "cell_type": "markdown",
   "metadata": {},
   "source": [
    "**Mean Calculation by Hand**\n",
    "\n",
    "$$\n",
    "    \\begin{align}\n",
    "    \\bar{x}&=\\frac{\\sum{x_i}}{N} \\\\\n",
    "    \\bar{x}_1&\\approx\\bigg[\\frac{-1.3+1.5+1.3+6.4+5.0}{5}, \\frac{5.9+8.0-0.94+16.0+5.3}{5}\\bigg] \\\\\n",
    "    \\bar{x}_1&\\approx[2.6, 7.2] \\\\\n",
    "    \\bar{x}_2&\\approx\\bigg[\\frac{20.0+21.3+20.4+26.8+23.3}{5}, \\frac{32.0+31.7+36.0+35.8+36.6}{5}] \\\\\n",
    "    \\bar{x}_2&\\approx[22.4, 34.4]\n",
    "    \\end{align}\n",
    "$$\n",
    "\n"
   ]
  },
  {
   "cell_type": "code",
   "execution_count": 13,
   "metadata": {},
   "outputs": [
    {
     "name": "stdout",
     "output_type": "stream",
     "text": [
      "Mean 1:  [2.60427246 6.85411679]\n",
      "Mean 2:  [22.37182088 34.430689  ]\n",
      "Aggregated Mean:  [12.48804667 20.64240289]\n"
     ]
    }
   ],
   "source": [
    "# Mean Calculations\n",
    "mean_1 = np.mean(data_1, axis=0)\n",
    "mean_2 = np.mean(data_2, axis=0)\n",
    "data = np.vstack((data_1, data_2))\n",
    "mean = np.mean(data, axis=0)\n",
    "\n",
    "print(\"Mean 1: \", mean_1)\n",
    "print(\"Mean 2: \", mean_2)\n",
    "print(\"Aggregated Mean: \", mean)"
   ]
  },
  {
   "cell_type": "markdown",
   "metadata": {},
   "source": [
    "**Covariance Calculation by Hand**\n",
    "\n",
    "This is a sample calculation for the covariance of the aggregated dataset. Repeat for each class\n",
    "\n",
    "Calculate each of the below expected values:\n",
    "\n",
    "$$\n",
    "    \\begin{align}\n",
    "        E(x_1) &= 12.49\\\\\n",
    "        E(x_2) &= 20.64\\\\\n",
    "        E(x^2_1) &= 260.27\\\\\n",
    "        E(x^2_2) &= 633.19\\\\\n",
    "        E(x_1 x_2) &= 399.84\n",
    "    \\end{align}\n",
    "$$\n",
    "\n",
    "Compute the covariance matrix (the formula taught in class is for the population covariance whereas the Python code below is for the sample covariance so they will not be exactly equal):\n",
    "\n",
    "\n",
    "$$\n",
    "    \\begin{align}\n",
    "        \\Sigma &=\n",
    "        \\left[ \n",
    "            {\\begin{array}{cc}\n",
    "                E(x^2_1)-E(x_1)^2 & E(x_1 x_2)-E(x_1)E(x_2) \\\\\n",
    "                E(x_2 x_1)-E(x_2)E(x_1) & E(x^2_2)-E(x_2)^2\n",
    "            \\end{array} } \n",
    "        \\right] \\\\\n",
    "\n",
    "        \\Sigma &\\approx\n",
    "        \\left[ \n",
    "            {\\begin{array}{cc}\n",
    "                104.3 & 142.0 \\\\\n",
    "                142.0 & 207.2\n",
    "            \\end{array} } \n",
    "        \\right] \n",
    "    \\end{align}\n",
    "$$"
   ]
  },
  {
   "cell_type": "code",
   "execution_count": 14,
   "metadata": {},
   "outputs": [
    {
     "name": "stdout",
     "output_type": "stream",
     "text": [
      "Covariance 1:  [[ 9.6119473  10.98596509]\n",
      " [10.98596509 37.19849867]]\n",
      "Covariance 2:  [[7.76323169 3.45454531]\n",
      " [3.45454531 5.65009068]]\n",
      "Aggregated Covariance:  [[116.2656269  157.84056754]\n",
      " [157.84056754 230.28474393]]\n"
     ]
    }
   ],
   "source": [
    "# Variance calculations\n",
    "covariance_1 = np.cov(np.array(data_1).T)\n",
    "covariance_2 = np.cov(np.array(data_2).T)\n",
    "covariance = np.cov(data.T)\n",
    "\n",
    "print(\"Covariance 1: \", covariance_1)\n",
    "print(\"Covariance 2: \", covariance_2)\n",
    "print(\"Aggregated Covariance: \", covariance)"
   ]
  },
  {
   "cell_type": "markdown",
   "metadata": {},
   "source": [
    "#### 1.2 Eigenvalues and Eigenvectors"
   ]
  },
  {
   "cell_type": "markdown",
   "metadata": {},
   "source": [
    "**Eigenvalue Calculation by Hand**\n",
    "\n",
    "This is an example calculation for the aggregated dataset. Repeat for each class\n",
    "\n",
    "Use the above sample covariance computed in Python for $\\Sigma$. Expand the matrix in step (1) and then use quadratic formula to solve for the $\\lambda$ values\n",
    "\n",
    "$$\n",
    "    \\begin{align}\n",
    "        0 &= \\det(\\Sigma - \\lambda I) \\\\\n",
    "        0 &\\approx (116.3 - \\lambda)(230.3-\\lambda) - 157.8^2 \\\\\n",
    "        \\lambda_1 &\\approx 341.09 \\\\\n",
    "        \\lambda_1 &\\approx 5.45\n",
    "    \\end{align}\n",
    "$$"
   ]
  },
  {
   "cell_type": "code",
   "execution_count": 15,
   "metadata": {},
   "outputs": [
    {
     "name": "stdout",
     "output_type": "stream",
     "text": [
      "Dataset:  1\n",
      "Eigenvalue 1:  41.038880661407944\n",
      "Eigenvalue 2:  5.771565310643805\n",
      "\n",
      "Dataset:  2\n",
      "Eigenvalue 1:  10.31917064427396\n",
      "Eigenvalue 2:  3.09415173394538\n",
      "\n",
      "Dataset:  Aggregated\n",
      "Eigenvalue 1:  341.09572802738006\n",
      "Eigenvalue 2:  5.45464280669529\n",
      "\n"
     ]
    }
   ],
   "source": [
    "# Eigenvalue Calculation\n",
    "eigenvalue_dict = {}\n",
    "\n",
    "def calc_eigenvalue(cov, label):\n",
    "\n",
    "    # Coefficients for quadratic formula\n",
    "    a = 1\n",
    "    b = -cov[0][0]-cov[1][1]\n",
    "    c = cov[0][0]*cov[1][1]-cov[1][0]**2\n",
    "\n",
    "    # Quadratic formula\n",
    "    lambda_1 = (-b+(b**2-4*a*c)**(0.5))/(2*a)\n",
    "    lambda_2 = (-b-(b**2-4*a*c)**(0.5))/(2*a)\n",
    "\n",
    "    eigenvalue_dict[label] = [lambda_1, lambda_2]\n",
    "\n",
    "    print(\"Dataset: \", label)\n",
    "    print(\"Eigenvalue 1: \", lambda_1)\n",
    "    print(\"Eigenvalue 2: \", lambda_2)\n",
    "    print()\n",
    "\n",
    "calc_eigenvalue(covariance_1, \"1\")\n",
    "calc_eigenvalue(covariance_2, \"2\")\n",
    "calc_eigenvalue(covariance, \"Aggregated\")"
   ]
  },
  {
   "cell_type": "markdown",
   "metadata": {},
   "source": [
    "**Eigenvector Calculation by Hand**\n",
    "\n",
    "This is an example calculation for the aggregated dataset. Repeat for each class\n",
    "\n",
    "Assume one of the vector components is equal to 1 as there are more variables than equations. Solve equation (2) twice - once per each $\\lambda$ value\n",
    "\n",
    "$$\n",
    "    \\begin{align}\n",
    "        (\\Sigma - \\lambda I) \\bar{v}_i &= 0 \\\\\n",
    "        \\left[ \n",
    "            {\\begin{array}{cc}\n",
    "                116.2-\\lambda_i & 157.8 \\\\\n",
    "                157.8 & 230.3-\\lambda_i\n",
    "            \\end{array} } \n",
    "        \\right] \\bar{v}_i &\\approx 0 \\\\\n",
    "        \\bar{v}_1 &\\approx [0.70, 1] \\\\\n",
    "        \\bar{v}_2 &\\approx [-1.42, 1]\n",
    "        \n",
    "    \\end{align}\n",
    "$$"
   ]
  },
  {
   "cell_type": "code",
   "execution_count": 16,
   "metadata": {},
   "outputs": [
    {
     "name": "stdout",
     "output_type": "stream",
     "text": [
      "Class:  1\n",
      "Eigenvector 1:  [-2.0981974552770506, 1]\n",
      "Eigenvector 2:  [-1.4284981949199644, 1]\n",
      "\n",
      "Class:  2\n",
      "Eigenvector 1:  [-1.4898145073252358, 1]\n",
      "Eigenvector 2:  [-1.3947027490658275, 1]\n",
      "\n",
      "Class:  Aggregated\n",
      "Eigenvector 1:  [0.7020437510299167, 1]\n",
      "Eigenvector 2:  [-1.424412650255734, 1]\n",
      "\n"
     ]
    }
   ],
   "source": [
    "# Eigenvectors\n",
    "# Assume one of the vectors is 1\n",
    "\n",
    "def calc_eigenvector(label):\n",
    "    eigenvector_1 = [-covariance[0][1]/(covariance[0][0]-eigenvalue_dict[label][0]), 1]\n",
    "    eigenvector_2 = [-covariance[0][1]/(covariance[0][0]-eigenvalue_dict[label][1]), 1]\n",
    "    print(\"Class: \", label)\n",
    "    print(\"Eigenvector 1: \", eigenvector_1)\n",
    "    print(\"Eigenvector 2: \", eigenvector_2)\n",
    "    print() \n",
    "\n",
    "calc_eigenvector(\"1\")\n",
    "calc_eigenvector(\"2\")\n",
    "calc_eigenvector(\"Aggregated\")"
   ]
  },
  {
   "cell_type": "markdown",
   "metadata": {},
   "source": [
    "**Inverse Covariance Matrix by Hand**\n",
    "\n",
    "If this were to be done with the method taught in class, then solve the below, where $\\Delta$ is the matrix of eigenvalues, $\\lambda$ and $\\phi$ is the normalized eigenvectors, $\\bar{v}$\n",
    "\n",
    "$$\\Sigma^{-1} = \\phi^T \\Delta^{-1} \\phi$$\n",
    "\n",
    "First, normalize the eigenvectors. For each eigenvector, calculate the norm and divide it into the eigenvector:\n",
    "\n",
    "$$\n",
    "\\begin{align}\n",
    "    \\hat{v} &= \\frac{v}{||v||} \\\\ \\\\\n",
    "\n",
    "    \\hat{v}_{11} &\\approx \\frac{1}{\\sqrt{2.1^2 + 1^2}} \\cdot [-2.1, 1] \\\\\n",
    "    \\hat{v}_{11} &\\approx [-0.901, 0.429] \\\\ \\\\\n",
    "\n",
    "    \\hat{v}_{12} &\\approx \\frac{1}{\\sqrt{1.43^2 + 1^2}} \\cdot [-1.43, 1] \\\\\n",
    "    \\hat{v}_{12} &\\approx [0.819, 0.573] \\\\ \\\\\n",
    "\n",
    "    \\hat{v}_{21} &\\approx [0.574, 0.820] \\\\\n",
    "    \\hat{v}_{22} &\\approx [0.816, 0.575]\n",
    "\\end{align}\n",
    "$$\n",
    "\n",
    "Next, compute the inverse covariance matrix for each class:\n",
    "\n",
    "$$\n",
    "\\begin{align}\n",
    "    \\Sigma^{-1} &= \\phi^T \\Delta^{-1} \\phi \\\\\n",
    "\n",
    "    \\Sigma^{-1}_1 &\\approx         \n",
    "        \\left[ \n",
    "            {\\begin{array}{cc}\n",
    "                0.05166 & 0.02461 \\\\\n",
    "                0.02461 & 0.07323\n",
    "            \\end{array} } \n",
    "        \\right] \\\\\n",
    "\n",
    "    \\Sigma^{-1}_2 &\\approx         \n",
    "    \\left[ \n",
    "        {\\begin{array}{cc}\n",
    "            0.24952 & 0.19797 \\\\\n",
    "            0.19797 & 0.17151\n",
    "        \\end{array} } \n",
    "    \\right]\n",
    "\\end{align}\n",
    "$$\n",
    "\n",
    "Alternatively, since it's just a $2\\times 2$ matrix, we can just directly invert it to validate the method taught in class\n",
    "\n",
    "$$\n",
    "    \\left[\n",
    "        {\\begin{array}{cc}\n",
    "            a & b \\\\ c & d\n",
    "        \\end{array} } \n",
    "    \\right]^{-1}  = \\frac{1}{ad-bc}\n",
    "    \\left[ \n",
    "        {\\begin{array}{cc}\n",
    "            d & -b \\\\ -c & a\n",
    "        \\end{array} } \n",
    "    \\right] \n",
    "$$\n",
    "\n",
    "The inverted covariance matrices for each class are:\n",
    "\n",
    "$$\n",
    "\\begin{align}\n",
    "\\Sigma_1 &\\approx\n",
    "    \\left[ \n",
    "        {\\begin{array}{cc}\n",
    "            9.6 & 11.0 \\\\ 11.0 & 37.2\n",
    "        \\end{array} } \n",
    "    \\right]^{-1}  = \n",
    "    \\left[ \n",
    "        {\\begin{array}{cc}\n",
    "            0.16 & -0.05 \\\\ -0.05 & 0.04\n",
    "        \\end{array} } \n",
    "    \\right] \\\\\n",
    "\n",
    "\\Sigma_2 &\\approx\n",
    "    \\left[ \n",
    "        {\\begin{array}{cc}\n",
    "            7.8 & 3.4 \\\\ 3.4 & 5.7\n",
    "        \\end{array} } \n",
    "    \\right]^{-1}  = \n",
    "    \\left[ \n",
    "        {\\begin{array}{cc}\n",
    "            0.17 & -0.10 \\\\ -0.10 & 0.24\n",
    "        \\end{array} } \n",
    "    \\right] \n",
    "\\end{align}\n",
    "\n",
    "$$"
   ]
  },
  {
   "cell_type": "code",
   "execution_count": 17,
   "metadata": {},
   "outputs": [
    {
     "name": "stdout",
     "output_type": "stream",
     "text": [
      "Inverse Covariance for:  1\n",
      "[[ 0.1570494  -0.04638196]\n",
      " [-0.04638196  0.04058095]]\n",
      "\n",
      "Inverse Covariance for:  2\n",
      "[[ 0.17695752 -0.10819433]\n",
      " [-0.10819433  0.24313985]]\n",
      "\n",
      "Inverse Covariance for:  Aggregated\n",
      "[[ 0.12377205 -0.08483519]\n",
      " [-0.08483519  0.06248974]]\n",
      "\n"
     ]
    }
   ],
   "source": [
    "def invert_covariance(cov, label):\n",
    "    inv_cov = 1/(cov[0][0]*cov[1][1]-cov[0][1]*cov[1][0]) * \\\n",
    "        np.array([[cov[1][1], -cov[0][1]], [-cov[1][0], cov[0][0]]])\n",
    "    print(\"Inverse Covariance for: \", label)\n",
    "    print(inv_cov)\n",
    "    print()\n",
    "    return inv_cov\n",
    "\n",
    "inv_cov_1 = invert_covariance(covariance_1, \"1\")\n",
    "inv_cov_2 = invert_covariance(covariance_2, \"2\")\n",
    "inv_cov = invert_covariance(covariance, \"Aggregated\")"
   ]
  },
  {
   "cell_type": "markdown",
   "metadata": {},
   "source": [
    "#### 1.3 MMD Classifier Decision Boundary (N=5)"
   ]
  },
  {
   "cell_type": "markdown",
   "metadata": {},
   "source": [
    "**Calculation**"
   ]
  },
  {
   "cell_type": "markdown",
   "metadata": {},
   "source": [
    "Evaluate the below to find an expression for $x$\n",
    "\n",
    "$$\n",
    "\\begin{align}\n",
    "    x^T (\\Sigma^{-1}_1 - \\Sigma^{-1}_2)x+2(\\mu^T_2 \\Sigma^{-1}_2-\\mu^T_1 \\Sigma^{-1}_1)x+\\mu^T_1 \\Sigma^{-1}_1 \\mu_1 -\\mu^T_2 \\Sigma^{-1}_2 \\mu_2 &= 0 \\\\\n",
    "\n",
    "    -0.0199 x_1^2 - 0.2026 x_2^2 + 0.1236 x_1 x_2 + 0.2851 x_1 + 11.5872 x_2 + 180.3700 &= 0\n",
    "\n",
    "\\end{align}\n",
    "$$"
   ]
  },
  {
   "cell_type": "code",
   "execution_count": 18,
   "metadata": {},
   "outputs": [
    {
     "name": "stdout",
     "output_type": "stream",
     "text": [
      "0 = -0.019908114037862218 x_1^2 + -0.2025588964265756 x_2^2 + 0.12362473604038675 x_1 * x_2 + 0.28512913491843783 x_1 + 11.587226274486085 x_2 + -208.80750893862438\n"
     ]
    }
   ],
   "source": [
    "def mmd_classifier(m1, m2, icov1, icov2):\n",
    "    # First term\n",
    "    a = icov1 - icov2\n",
    "\n",
    "    # Second term\n",
    "    mu_sigma_2 = np.array([m2[0] * icov2[0][0] + m2[1] * icov2[0][1], m2[0] * icov2[1][0] + m2[1] * icov2[1][1]])\n",
    "    mu_sigma_1 = np.array([m1[0] * icov1[0][0] + m1[1] * icov1[0][1], m1[0] * icov1[1][0] + m1[1] * icov1[1][1]])\n",
    "    b = 2 * (mu_sigma_2 - mu_sigma_1)\n",
    "\n",
    "    # Third Term\n",
    "    c = (mu_sigma_1[0] * m1[0] + mu_sigma_1[1] * m1[1]) - (mu_sigma_2[0] * m2[0] + mu_sigma_2[1] * m2[1])\n",
    "\n",
    "    # Standard form coefficients: 0 = Ax^2 + By^2 + Cxy + Dx + Ey + F\n",
    "    x_1_squared = a[0][0]\n",
    "    x_2_squared = a[1][1]\n",
    "    x_1_x_2 = a[0][1] + a[1][0]\n",
    "    x_1 = b[0]\n",
    "    x_2 = b[1]\n",
    "\n",
    "    print(f\"0 = {x_1_squared} x_1^2 + {x_2_squared} x_2^2 + {x_1_x_2} x_1 * x_2 + {x_1} x_1 + {x_2} x_2 + {c}\")\n",
    "\n",
    "    return [x_1_squared, x_2_squared, x_1_x_2, x_1, x_2, c]\n",
    "\n",
    "coef = mmd_classifier(mean_1, mean_2, inv_cov_1, inv_cov_2)"
   ]
  },
  {
   "cell_type": "code",
   "execution_count": 19,
   "metadata": {},
   "outputs": [
    {
     "name": "stderr",
     "output_type": "stream",
     "text": [
      "C:\\Users\\ephei\\AppData\\Local\\Temp\\ipykernel_8688\\1839172264.py:11: RuntimeWarning: invalid value encountered in sqrt\n",
      "  y_1 = (-coef[2]*x-coef[4]+((coef[2]*x+coef[4])**2-4*coef[1]*(coef[0]*x**2+coef[3]*x+coef[5]))**(1/2))/(2*coef[1])\n",
      "C:\\Users\\ephei\\AppData\\Local\\Temp\\ipykernel_8688\\1839172264.py:12: RuntimeWarning: invalid value encountered in sqrt\n",
      "  y_2 = (-coef[2]*x-coef[4]-((coef[2]*x+coef[4])**2-4*coef[1]*(coef[0]*x**2+coef[3]*x+coef[5]))**(1/2))/(2*coef[1])\n"
     ]
    },
    {
     "data": {
      "image/png": "[encoded data removed]",
      "text/plain": [
       "<Figure size 640x480 with 1 Axes>"
      ]
     },
     "metadata": {},
     "output_type": "display_data"
    }
   ],
   "source": [
    "# Plot\n",
    "fig = plt.figure()\n",
    "ax1 = fig.add_subplot(111)\n",
    "\n",
    "# Plot the data\n",
    "ax1.scatter(np.array(data_1)[:, 0], np.array(data_1)[:, 1], c='b', alpha=0.5, label='Class 1')\n",
    "ax1.scatter(np.array(data_2)[:, 0], np.array(data_2)[:, 1], c='r', alpha=0.5, label='Class 2')\n",
    "\n",
    "# Plot the decision boundary\n",
    "x = np.linspace(-5, 30, 100)\n",
    "y_1 = (-coef[2]*x-coef[4]+((coef[2]*x+coef[4])**2-4*coef[1]*(coef[0]*x**2+coef[3]*x+coef[5]))**(1/2))/(2*coef[1])\n",
    "y_2 = (-coef[2]*x-coef[4]-((coef[2]*x+coef[4])**2-4*coef[1]*(coef[0]*x**2+coef[3]*x+coef[5]))**(1/2))/(2*coef[1])\n",
    "ax1.plot(x, y_1, linewidth=2.0, color='black')\n",
    "ax1.plot(x, y_2, linewidth=2.0, color='black')\n",
    "\n",
    "# Display plot\n",
    "plt.grid()\n",
    "plt.legend()\n",
    "plt.show()"
   ]
  },
  {
   "cell_type": "markdown",
   "metadata": {},
   "source": [
    "#### 1.4 MMD Classifier Decision Boundary (N=100)"
   ]
  },
  {
   "cell_type": "code",
   "execution_count": 20,
   "metadata": {},
   "outputs": [
    {
     "name": "stdout",
     "output_type": "stream",
     "text": [
      "Inverse Covariance for:  1\n",
      "[[ 0.3279904  -0.00293465]\n",
      " [-0.00293465  0.04843726]]\n",
      "\n",
      "Inverse Covariance for:  2\n",
      "[[ 0.25248906 -0.04428525]\n",
      " [-0.04428525  0.08308765]]\n",
      "\n",
      "0 = 0.07550134057744334 x_1^2 + -0.03465038448348604 x_2^2 + 0.08270120202015176 x_1 * x_2 + 6.3095698573926615 x_1 + 3.022466288992444 x_2 + -146.8478326951204\n"
     ]
    }
   ],
   "source": [
    "# Data Generation\n",
    "bdata_1 = generate_sample(mu_1, cov_1, 100)\n",
    "bdata_2 = generate_sample(mu_2, cov_2, 100)\n",
    "bdata_noise = generate_sample(mu_noise, cov_noise, 200)\n",
    "\n",
    "# Adding Noise\n",
    "bdata_1 += bdata_noise[0:100]\n",
    "bdata_2 += bdata_noise[100:200]\n",
    "\n",
    "# Mean\n",
    "bmean_1 = np.mean(bdata_1, axis=0)\n",
    "bmean_2 = np.mean(bdata_2, axis=0)\n",
    "\n",
    "# Covariance\n",
    "bcovariance_1 = np.cov(np.array(bdata_1).T)\n",
    "bcovariance_2 = np.cov(np.array(bdata_2).T)\n",
    "\n",
    "# Inverse Covariance\n",
    "binv_cov_1 = invert_covariance(bcovariance_1, \"1\")\n",
    "binv_cov_2 = invert_covariance(bcovariance_2, \"2\")\n",
    "\n",
    "bcoef = mmd_classifier(bmean_1, bmean_2, binv_cov_1, binv_cov_2)"
   ]
  },
  {
   "cell_type": "code",
   "execution_count": 21,
   "metadata": {},
   "outputs": [
    {
     "name": "stderr",
     "output_type": "stream",
     "text": [
      "C:\\Users\\ephei\\AppData\\Local\\Temp\\ipykernel_8688\\619209248.py:11: RuntimeWarning: invalid value encountered in sqrt\n",
      "  y_1 = (-bcoef[2]*x-bcoef[4]+((bcoef[2]*x+bcoef[4])**2-4*bcoef[1]*(bcoef[0]*x**2+bcoef[3]*x+bcoef[5]))**(1/2))/(2*bcoef[1])\n",
      "C:\\Users\\ephei\\AppData\\Local\\Temp\\ipykernel_8688\\619209248.py:12: RuntimeWarning: invalid value encountered in sqrt\n",
      "  y_2 = (-bcoef[2]*x-bcoef[4]-((bcoef[2]*x+bcoef[4])**2-4*bcoef[1]*(bcoef[0]*x**2+bcoef[3]*x+bcoef[5]))**(1/2))/(2*bcoef[1])\n"
     ]
    },
    {
     "data": {
      "image/png": "[encoded data removed]",
      "text/plain": [
       "<Figure size 640x480 with 1 Axes>"
      ]
     },
     "metadata": {},
     "output_type": "display_data"
    }
   ],
   "source": [
    "# Plot\n",
    "fig = plt.figure()\n",
    "ax1 = fig.add_subplot(111)\n",
    "\n",
    "# Plot the data\n",
    "ax1.scatter(np.array(bdata_1)[:, 0], np.array(bdata_1)[:, 1], c='b', alpha=0.5, label='Class 1')\n",
    "ax1.scatter(np.array(bdata_2)[:, 0], np.array(bdata_2)[:, 1], c='r', alpha=0.5, label='Class 2')\n",
    "\n",
    "# Plot the decision boundary\n",
    "x = np.linspace(-5, 30, 100)\n",
    "y_1 = (-bcoef[2]*x-bcoef[4]+((bcoef[2]*x+bcoef[4])**2-4*bcoef[1]*(bcoef[0]*x**2+bcoef[3]*x+bcoef[5]))**(1/2))/(2*bcoef[1])\n",
    "y_2 = (-bcoef[2]*x-bcoef[4]-((bcoef[2]*x+bcoef[4])**2-4*bcoef[1]*(bcoef[0]*x**2+bcoef[3]*x+bcoef[5]))**(1/2))/(2*bcoef[1])\n",
    "ax1.plot(x, y_1, linewidth=2.0, color='black')\n",
    "ax1.plot(x, y_2, linewidth=2.0, color='black')\n",
    "\n",
    "# Display plot\n",
    "plt.grid()\n",
    "plt.legend()\n",
    "plt.show()"
   ]
  },
  {
   "cell_type": "markdown",
   "metadata": {},
   "source": [
    "#### 1.5 MMD Accuracy Calculation"
   ]
  },
  {
   "cell_type": "code",
   "execution_count": 22,
   "metadata": {},
   "outputs": [],
   "source": [
    "# Data generation\n",
    "cdata_1 = generate_sample(mu_1, cov_1, 50)\n",
    "cdata_2 = generate_sample(mu_2, cov_2, 50)\n",
    "cdata_noise = generate_sample(mu_noise, cov_noise, 100)\n",
    "cdata_noise_2 = generate_sample([0,0], [[1,0],[0,1]], 100)\n",
    "\n",
    "# Adding noise\n",
    "cdata_1 += cdata_noise[0:50] + cdata_noise_2[0:50]\n",
    "cdata_2 += cdata_noise[50:100] + cdata_noise_2[50:100]"
   ]
  },
  {
   "cell_type": "code",
   "execution_count": 23,
   "metadata": {},
   "outputs": [],
   "source": [
    "# Classifies a single data point as class '1' or '2'\n",
    "def classifier(x, y, coef):\n",
    "    lowerbound = (-coef[2]*x-coef[4]+((coef[2]*x+coef[4])**2-4*coef[1]*(coef[0]*x**2+coef[3]*x+coef[5]))**(1/2))/(2*coef[1])\n",
    "    upperbound = (-coef[2]*x-coef[4]-((coef[2]*x+coef[4])**2-4*coef[1]*(coef[0]*x**2+coef[3]*x+coef[5]))**(1/2))/(2*coef[1])\n",
    "    return 2 if y <= upperbound and y >= lowerbound else 1"
   ]
  },
  {
   "cell_type": "code",
   "execution_count": 24,
   "metadata": {},
   "outputs": [],
   "source": [
    "# Returns accuracy measures for both classes\n",
    "def compute_accuracy(coef, class_1, class_2):\n",
    "    accuracy_1 = 1-(sum([classifier(i[0], i[1], coef) for i in class_1])-50)/50\n",
    "    accuracy_2 = 1-(100-sum([classifier(i[0], i[1], coef) for i in class_2]))/50\n",
    "\n",
    "    print(\"Accuracy for class 1: \", accuracy_1)\n",
    "    print(\"Accuracy for class 2: \", accuracy_2)\n",
    "    print(\"Total Accuracy: \", (accuracy_1 + accuracy_2) / 2)"
   ]
  },
  {
   "cell_type": "code",
   "execution_count": 25,
   "metadata": {},
   "outputs": [
    {
     "name": "stdout",
     "output_type": "stream",
     "text": [
      "Accuracy for smaller training set\n",
      "Accuracy for class 1:  1.0\n",
      "Accuracy for class 2:  0.98\n",
      "Total Accuracy:  0.99\n",
      "\n",
      "Accuracy for larger training set\n",
      "Accuracy for class 1:  1.0\n",
      "Accuracy for class 2:  1.0\n",
      "Total Accuracy:  1.0\n"
     ]
    },
    {
     "name": "stderr",
     "output_type": "stream",
     "text": [
      "C:\\Users\\ephei\\AppData\\Local\\Temp\\ipykernel_8688\\4018339649.py:3: RuntimeWarning: invalid value encountered in scalar power\n",
      "  lowerbound = (-coef[2]*x-coef[4]+((coef[2]*x+coef[4])**2-4*coef[1]*(coef[0]*x**2+coef[3]*x+coef[5]))**(1/2))/(2*coef[1])\n",
      "C:\\Users\\ephei\\AppData\\Local\\Temp\\ipykernel_8688\\4018339649.py:4: RuntimeWarning: invalid value encountered in scalar power\n",
      "  upperbound = (-coef[2]*x-coef[4]-((coef[2]*x+coef[4])**2-4*coef[1]*(coef[0]*x**2+coef[3]*x+coef[5]))**(1/2))/(2*coef[1])\n"
     ]
    }
   ],
   "source": [
    "print(\"Accuracy for smaller training set\")\n",
    "compute_accuracy(coef, cdata_1, cdata_2)\n",
    "print()\n",
    "\n",
    "print(\"Accuracy for larger training set\")\n",
    "compute_accuracy(bcoef, cdata_1, cdata_2)"
   ]
  },
  {
   "cell_type": "code",
   "execution_count": 26,
   "metadata": {},
   "outputs": [
    {
     "name": "stderr",
     "output_type": "stream",
     "text": [
      "C:\\Users\\ephei\\AppData\\Local\\Temp\\ipykernel_8688\\361830486.py:13: RuntimeWarning: invalid value encountered in sqrt\n",
      "  y_1 = (-coef[2]*x-coef[4]+((coef[2]*x+coef[4])**2-4*coef[1]*(coef[0]*x**2+coef[3]*x+coef[5]))**(1/2))/(2*coef[1])\n",
      "C:\\Users\\ephei\\AppData\\Local\\Temp\\ipykernel_8688\\361830486.py:14: RuntimeWarning: invalid value encountered in sqrt\n",
      "  y_2 = (-coef[2]*x-coef[4]-((coef[2]*x+coef[4])**2-4*coef[1]*(coef[0]*x**2+coef[3]*x+coef[5]))**(1/2))/(2*coef[1])\n",
      "C:\\Users\\ephei\\AppData\\Local\\Temp\\ipykernel_8688\\361830486.py:18: RuntimeWarning: invalid value encountered in sqrt\n",
      "  y_3 = (-bcoef[2]*x-bcoef[4]+((bcoef[2]*x+bcoef[4])**2-4*bcoef[1]*(bcoef[0]*x**2+bcoef[3]*x+bcoef[5]))**(1/2))/(2*bcoef[1])\n",
      "C:\\Users\\ephei\\AppData\\Local\\Temp\\ipykernel_8688\\361830486.py:19: RuntimeWarning: invalid value encountered in sqrt\n",
      "  y_4 = (-bcoef[2]*x-bcoef[4]-((bcoef[2]*x+bcoef[4])**2-4*bcoef[1]*(bcoef[0]*x**2+bcoef[3]*x+bcoef[5]))**(1/2))/(2*bcoef[1])\n"
     ]
    },
    {
     "data": {
      "image/png": "[encoded data removed]",
      "text/plain": [
       "<Figure size 640x480 with 1 Axes>"
      ]
     },
     "metadata": {},
     "output_type": "display_data"
    }
   ],
   "source": [
    "# Plot\n",
    "fig = plt.figure()\n",
    "ax1 = fig.add_subplot(111)\n",
    "\n",
    "# Plot the data\n",
    "ax1.scatter(np.array(cdata_1)[:, 0], np.array(cdata_1)[:, 1], c='b', alpha=0.5, label='Class 1')\n",
    "ax1.scatter(np.array(cdata_2)[:, 0], np.array(cdata_2)[:, 1], c='r', alpha=0.5, label='Class 2')\n",
    "\n",
    "# Plot the decision boundary\n",
    "x = np.linspace(-5, 30, 100)\n",
    "\n",
    "# Decision boundaries of MMD classifier trained on smaller dataset\n",
    "y_1 = (-coef[2]*x-coef[4]+((coef[2]*x+coef[4])**2-4*coef[1]*(coef[0]*x**2+coef[3]*x+coef[5]))**(1/2))/(2*coef[1])\n",
    "y_2 = (-coef[2]*x-coef[4]-((coef[2]*x+coef[4])**2-4*coef[1]*(coef[0]*x**2+coef[3]*x+coef[5]))**(1/2))/(2*coef[1])\n",
    "ax1.plot(x, y_1, linewidth=2.0, color='black', label=\"MMD Classifier (N=5)\")\n",
    "ax1.plot(x, y_2, linewidth=2.0, color='black')\n",
    "\n",
    "y_3 = (-bcoef[2]*x-bcoef[4]+((bcoef[2]*x+bcoef[4])**2-4*bcoef[1]*(bcoef[0]*x**2+bcoef[3]*x+bcoef[5]))**(1/2))/(2*bcoef[1])\n",
    "y_4 = (-bcoef[2]*x-bcoef[4]-((bcoef[2]*x+bcoef[4])**2-4*bcoef[1]*(bcoef[0]*x**2+bcoef[3]*x+bcoef[5]))**(1/2))/(2*bcoef[1])\n",
    "ax1.plot(x, y_3, linewidth=2.0, color='purple', label=\"MMD Classifier (N=100)\")\n",
    "ax1.plot(x, y_4, linewidth=2.0, color='purple')\n",
    "\n",
    "\n",
    "# Display plot\n",
    "plt.grid()\n",
    "plt.legend()\n",
    "plt.show()"
   ]
  },
  {
   "cell_type": "markdown",
   "metadata": {},
   "source": [
    "#### 1.6 Classifier Comparison"
   ]
  },
  {
   "cell_type": "markdown",
   "metadata": {},
   "source": [
    "Both classifiers scored 100% accuracy so they are difficult to compare quantiatively. However, by visually inspecting the plots of the decision boundaries, the classifier trained on the 100 datapoints is better because it is situated near the half-way point between the 2 datasets whereas the N=5 classifier is very close to the class 2 cluster, which risks misclassifying anomolies in the class 2 dataset\n",
    "\n",
    "In general, the more (high-quality) data, the better for training classifiers so it would make sense for the larger dataset to better capture the true distribution and produce a better classifier"
   ]
  },
  {
   "cell_type": "markdown",
   "metadata": {},
   "source": [
    "#### 1.7 MED Classifier"
   ]
  },
  {
   "cell_type": "code",
   "execution_count": 27,
   "metadata": {},
   "outputs": [
    {
     "name": "stdout",
     "output_type": "stream",
     "text": [
      "x2=(-A/B)x1-(C/B):  -0.6907789880085397 x1 +  28.113595487300966\n"
     ]
    }
   ],
   "source": [
    "# Compute the decision boundary\n",
    "\n",
    "# Mean\n",
    "cmean_1 = np.mean(cdata_1, axis=0)\n",
    "cmean_2 = np.mean(cdata_2, axis=0)\n",
    "\n",
    "# Coefficients of standard form Ax2 + Bx1 + C = 0\n",
    "A = -cmean_1[0]+cmean_2[0]\n",
    "B = -cmean_1[1]+cmean_2[1]\n",
    "C = 0.5*(cmean_1[0]**2+cmean_1[1]**2)-0.5*(cmean_2[0]**2+cmean_2[1]**2)\n",
    "\n",
    "# Decision boundary\n",
    "print(\"x2=(-A/B)x1-(C/B): \", -(A/B), \"x1 + \", -(C/B))"
   ]
  },
  {
   "cell_type": "code",
   "execution_count": 28,
   "metadata": {},
   "outputs": [
    {
     "name": "stdout",
     "output_type": "stream",
     "text": [
      "Accuracy for class 1:  1.0\n",
      "Accuracy for class 2:  1.0\n",
      "Total accuracy:  1.0\n"
     ]
    }
   ],
   "source": [
    "# Compute Accuracy\n",
    "def med_accuracy(x, y):\n",
    "    return 2 if y > -(A/B)*x-C/B else 1\n",
    "\n",
    "accuracy_1 = 1-(sum([med_accuracy(i[0], i[1]) for i in cdata_1])-50)/50\n",
    "accuracy_2 = 1-(100-sum([med_accuracy(i[0], i[1]) for i in cdata_2]))/50\n",
    "\n",
    "print(\"Accuracy for class 1: \", accuracy_1)\n",
    "print(\"Accuracy for class 2: \", accuracy_2)\n",
    "print(\"Total accuracy: \", (accuracy_1+accuracy_2)/2)\n"
   ]
  },
  {
   "cell_type": "code",
   "execution_count": 29,
   "metadata": {},
   "outputs": [
    {
     "data": {
      "image/png": "[encoded data removed]",
      "text/plain": [
       "<Figure size 640x480 with 1 Axes>"
      ]
     },
     "metadata": {},
     "output_type": "display_data"
    }
   ],
   "source": [
    "fig = plt.figure()\n",
    "ax1 = fig.add_subplot(111)\n",
    "\n",
    "# Plot the data\n",
    "ax1.scatter(cdata_1[:, 0], cdata_1[:, 1], c='b', alpha=0.5, label='Class 1')\n",
    "ax1.scatter(cdata_2[:, 0], cdata_2[:, 1], c='r', alpha=0.5, label='Class 2')\n",
    "\n",
    "# Plot the decision boundary\n",
    "x = np.linspace(-5, 30, 100)\n",
    "y = -(A/B)*x-C/B\n",
    "ax1.plot(x, y, linewidth=2.0)\n",
    "\n",
    "# Display plot\n",
    "plt.grid()\n",
    "plt.legend()\n",
    "plt.show()"
   ]
  },
  {
   "cell_type": "markdown",
   "metadata": {},
   "source": [
    "**Analysis:**\n",
    "\n",
    "Both classifiers scored 100% on the test set but this is because of how separated the datasets are. However, the MMD classifier is theoretically better as it has a scaling factor to account for situations where one axis' scale may bias the classifier due to its relatively high value (for example, height in nanometers vs age in years). In this case, the covariance matrix reveals a higher variation in the $x^2$ axis for both classes - the MMD classifier would technically be the better classifier as it accounts for this. However, the data is also very linearly separated so the MED is also a strong candidate for classification"
   ]
  },
  {
   "cell_type": "markdown",
   "metadata": {},
   "source": [
    "#### 2.1 ML Classifier"
   ]
  },
  {
   "cell_type": "code",
   "execution_count": 30,
   "metadata": {},
   "outputs": [],
   "source": [
    "# Insert a given point into the multivariate normal distribution, trained on each of the distribution's parameters\n",
    "def ml_normal_classifier(x, y):\n",
    "    x_mu_1 = np.array([x-bmean_1[0], y-bmean_1[1]])\n",
    "    x_mu_2 = np.array([x-bmean_2[0], y-bmean_2[1]])\n",
    "    class_1_p = 1/((2*np.pi)**(1/2)*(bcovariance_1[0][0]*bcovariance_1[1][1]-bcovariance_1[0][1]*bcovariance_1[1][0])**(1/2))*np.exp(-0.5*((x_mu_1[0]*binv_cov_1[0][0]+x_mu_1[1]*binv_cov_1[1][0])*x_mu_1[0]+x_mu_1[1]*(x_mu_1[0]*binv_cov_1[0][1]+x_mu_1[1]*binv_cov_1[1][1])))\n",
    "    class_2_p = 1/((2*np.pi)**(1/2)*(bcovariance_2[0][0]*bcovariance_2[1][1]-bcovariance_2[0][1]*bcovariance_2[1][0])**(1/2))*np.exp(-0.5*((x_mu_2[0]*binv_cov_2[0][0]+x_mu_2[1]*binv_cov_2[1][0])*x_mu_2[0]+x_mu_2[1]*(x_mu_2[0]*binv_cov_2[0][1]+x_mu_2[1]*binv_cov_2[1][1])))\n",
    "    return 1 if class_1_p >= class_2_p else 2"
   ]
  },
  {
   "cell_type": "code",
   "execution_count": 31,
   "metadata": {},
   "outputs": [
    {
     "name": "stdout",
     "output_type": "stream",
     "text": [
      "Accuracy for class 1:  1.0\n",
      "Accuracy for class 2:  1.0\n",
      "Total accuracy:  1.0\n"
     ]
    }
   ],
   "source": [
    "# Accuracy\n",
    "accuracy_1 = 1-(sum([ml_normal_classifier(i[0], i[1]) for i in cdata_1])-50)/50\n",
    "accuracy_2 = 1-(100-sum([ml_normal_classifier(i[0], i[1]) for i in cdata_2]))/50\n",
    "\n",
    "print(\"Accuracy for class 1: \", accuracy_1)\n",
    "print(\"Accuracy for class 2: \", accuracy_2)\n",
    "print(\"Total accuracy: \", (accuracy_1+accuracy_2)/2)"
   ]
  },
  {
   "cell_type": "markdown",
   "metadata": {},
   "source": [
    "#### 2.2 MAP Classifier"
   ]
  },
  {
   "cell_type": "code",
   "execution_count": 32,
   "metadata": {},
   "outputs": [],
   "source": [
    "# Insert a given point into the multivariate normal distribution, trained on each of the distribution's parameters\n",
    "def map_normal_classifier(x, y):\n",
    "    x_mu_1 = np.array([x-bmean_1[0], y-bmean_1[1]])\n",
    "    x_mu_2 = np.array([x-bmean_2[0], y-bmean_2[1]])\n",
    "    class_1_p = 1/((2*np.pi)**(1/2)*(bcovariance_1[0][0]*bcovariance_1[1][1]-bcovariance_1[0][1]*bcovariance_1[1][0])**(1/2))*np.exp(-0.5*((x_mu_1[0]*binv_cov_1[0][0]+x_mu_1[1]*binv_cov_1[1][0])*x_mu_1[0]+x_mu_1[1]*(x_mu_1[0]*binv_cov_1[0][1]+x_mu_1[1]*binv_cov_1[1][1])))\n",
    "    class_2_p = 1/((2*np.pi)**(1/2)*(bcovariance_2[0][0]*bcovariance_2[1][1]-bcovariance_2[0][1]*bcovariance_2[1][0])**(1/2))*np.exp(-0.5*((x_mu_2[0]*binv_cov_2[0][0]+x_mu_2[1]*binv_cov_2[1][0])*x_mu_2[0]+x_mu_2[1]*(x_mu_2[0]*binv_cov_2[0][1]+x_mu_2[1]*binv_cov_2[1][1])))\n",
    "    return 1 if 0.58*class_1_p >= 0.42*class_2_p else 2"
   ]
  },
  {
   "cell_type": "code",
   "execution_count": 33,
   "metadata": {},
   "outputs": [
    {
     "name": "stdout",
     "output_type": "stream",
     "text": [
      "Accuracy for class 1:  1.0\n",
      "Accuracy for class 2:  1.0\n",
      "Total accuracy:  1.0\n"
     ]
    }
   ],
   "source": [
    "# Accuracy\n",
    "accuracy_1 = 1-(sum([map_normal_classifier(i[0], i[1]) for i in cdata_1])-50)/50\n",
    "accuracy_2 = 1-(100-sum([map_normal_classifier(i[0], i[1]) for i in cdata_2]))/50\n",
    "\n",
    "print(\"Accuracy for class 1: \", accuracy_1)\n",
    "print(\"Accuracy for class 2: \", accuracy_2)\n",
    "print(\"Total accuracy: \", (accuracy_1+accuracy_2)/2)"
   ]
  },
  {
   "cell_type": "markdown",
   "metadata": {},
   "source": [
    "#### 2.3 ML v MAP Classifier Analysis"
   ]
  },
  {
   "cell_type": "markdown",
   "metadata": {},
   "source": [
    "The accuracy measures for both classifiers is 100% which implies the normal distribution assumption is correct. However, examine the scatterplot of the data and the true distribution statistics to find that the datasets are separated by a large distance. Even with relatively large variances, the 2 classes are still easily distinguishable at a glance which makes it easy to classify with a high accuracy.\n",
    "\n",
    "Removing the initial noise and retraining the dataset will not have a significant impact on accuracy due to the small effect of the noise (low mean and variance). However, if the noise was more prevalent, then removing it would improve the classifiers as the sample data would be more densely clustered which makes it easier to separate and classify. This is because the classifiers naturally bias toward the dataset with the lower covariances"
   ]
  },
  {
   "cell_type": "markdown",
   "metadata": {},
   "source": [
    "#### 2.4 ML v MAP v MMD v MED Classifier Comparison"
   ]
  },
  {
   "cell_type": "markdown",
   "metadata": {},
   "source": [
    "All 4 classifiers scored 100% accuracy due to the convenient structure of the dataset where each class was distanced far enough from each other that is virtually no chance of any overlap - making the data easy to accurately classify\n",
    "\n",
    "However, each classifier may benefit from different environments:\n",
    "\n",
    "* **MED**: For linearly separated data\n",
    "* **MMD**: For quadratic relationships and where the axis may be scaled in a bias way (ex. high variance in one dimension like in this dataset)\n",
    "* **ML**: When the distribution is not known and there is a lot of data which can be used to estimate distribution parameters\n",
    "* **MAP**: When the distribution is not known but prior probabilities of each classes are known"
   ]
  }
 ],
 "metadata": {
  "kernelspec": {
   "display_name": "Python 3",
   "language": "python",
   "name": "python3"
  },
  "language_info": {
   "codemirror_mode": {
    "name": "ipython",
    "version": 3
   },
   "file_extension": ".py",
   "mimetype": "text/x-python",
   "name": "python",
   "nbconvert_exporter": "python",
   "pygments_lexer": "ipython3",
   "version": "3.10.4"
  },
  "orig_nbformat": 4
 },
 "nbformat": 4,
 "nbformat_minor": 2
}
